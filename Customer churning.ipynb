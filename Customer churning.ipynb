{
 "cells": [
  {
   "cell_type": "markdown",
   "id": "7be67093",
   "metadata": {},
   "source": [
    "## IMPORTING LIBRARIES\n",
    "\n",
    "\n"
   ]
  },
  {
   "cell_type": "code",
   "execution_count": 7,
   "id": "492c516d",
   "metadata": {},
   "outputs": [],
   "source": [
    "import numpy as np\n",
    "import pandas as pd\n",
    "import matplotlib.pyplot as plt\n",
    "from wordcloud import WordCloud, STOPWORDS\n",
    "import seaborn as sns\n",
    "\n",
    "# Shows plots in jupyter notebook\n",
    "%matplotlib inline\n",
    "\n",
    "# Set plot style\n",
    "sns.set(color_codes=True)"
   ]
  },
  {
   "cell_type": "markdown",
   "id": "14677ed4",
   "metadata": {},
   "source": [
    "### LOADING DATASETS\n"
   ]
  },
  {
   "cell_type": "code",
   "execution_count": 11,
   "id": "1b542ac7",
   "metadata": {},
   "outputs": [],
   "source": [
    "client_df = pd.read_csv(\"C:\\\\Users\\\\pc\\\\Downloads\\\\client_data.csv\")\n",
    "price_df = pd.read_csv('C:\\\\Users\\\\pc\\\\Downloads\\\\price_data.csv')"
   ]
  },
  {
   "cell_type": "markdown",
   "id": "eafb8287",
   "metadata": {},
   "source": [
    "#### Viewing the datasets. \n",
    "\n",
    "We have to view the datasets to fully understand the datasets that we have been giving and draw inferences "
   ]
  },
  {
   "cell_type": "code",
   "execution_count": 12,
   "id": "c47f237b",
   "metadata": {},
   "outputs": [
    {
     "data": {
      "text/html": [
       "<div>\n",
       "<style scoped>\n",
       "    .dataframe tbody tr th:only-of-type {\n",
       "        vertical-align: middle;\n",
       "    }\n",
       "\n",
       "    .dataframe tbody tr th {\n",
       "        vertical-align: top;\n",
       "    }\n",
       "\n",
       "    .dataframe thead th {\n",
       "        text-align: right;\n",
       "    }\n",
       "</style>\n",
       "<table border=\"1\" class=\"dataframe\">\n",
       "  <thead>\n",
       "    <tr style=\"text-align: right;\">\n",
       "      <th></th>\n",
       "      <th>id</th>\n",
       "      <th>channel_sales</th>\n",
       "      <th>cons_12m</th>\n",
       "      <th>cons_gas_12m</th>\n",
       "      <th>cons_last_month</th>\n",
       "      <th>date_activ</th>\n",
       "      <th>date_end</th>\n",
       "      <th>date_modif_prod</th>\n",
       "      <th>date_renewal</th>\n",
       "      <th>forecast_cons_12m</th>\n",
       "      <th>forecast_cons_year</th>\n",
       "      <th>forecast_discount_energy</th>\n",
       "      <th>forecast_meter_rent_12m</th>\n",
       "      <th>forecast_price_energy_off_peak</th>\n",
       "      <th>forecast_price_energy_peak</th>\n",
       "      <th>forecast_price_pow_off_peak</th>\n",
       "      <th>has_gas</th>\n",
       "      <th>imp_cons</th>\n",
       "      <th>margin_gross_pow_ele</th>\n",
       "      <th>margin_net_pow_ele</th>\n",
       "      <th>nb_prod_act</th>\n",
       "      <th>net_margin</th>\n",
       "      <th>num_years_antig</th>\n",
       "      <th>origin_up</th>\n",
       "      <th>pow_max</th>\n",
       "      <th>churn</th>\n",
       "    </tr>\n",
       "  </thead>\n",
       "  <tbody>\n",
       "    <tr>\n",
       "      <th>0</th>\n",
       "      <td>24011ae4ebbe3035111d65fa7c15bc57</td>\n",
       "      <td>foosdfpfkusacimwkcsosbicdxkicaua</td>\n",
       "      <td>0</td>\n",
       "      <td>54946</td>\n",
       "      <td>0</td>\n",
       "      <td>2013-06-15</td>\n",
       "      <td>2016-06-15</td>\n",
       "      <td>2015-11-01</td>\n",
       "      <td>2015-06-23</td>\n",
       "      <td>0.00</td>\n",
       "      <td>0</td>\n",
       "      <td>0.0</td>\n",
       "      <td>1.78</td>\n",
       "      <td>0.114481</td>\n",
       "      <td>0.098142</td>\n",
       "      <td>40.606701</td>\n",
       "      <td>t</td>\n",
       "      <td>0.00</td>\n",
       "      <td>25.44</td>\n",
       "      <td>25.44</td>\n",
       "      <td>2</td>\n",
       "      <td>678.99</td>\n",
       "      <td>3</td>\n",
       "      <td>lxidpiddsbxsbosboudacockeimpuepw</td>\n",
       "      <td>43.648</td>\n",
       "      <td>1</td>\n",
       "    </tr>\n",
       "    <tr>\n",
       "      <th>1</th>\n",
       "      <td>d29c2c54acc38ff3c0614d0a653813dd</td>\n",
       "      <td>MISSING</td>\n",
       "      <td>4660</td>\n",
       "      <td>0</td>\n",
       "      <td>0</td>\n",
       "      <td>2009-08-21</td>\n",
       "      <td>2016-08-30</td>\n",
       "      <td>2009-08-21</td>\n",
       "      <td>2015-08-31</td>\n",
       "      <td>189.95</td>\n",
       "      <td>0</td>\n",
       "      <td>0.0</td>\n",
       "      <td>16.27</td>\n",
       "      <td>0.145711</td>\n",
       "      <td>0.000000</td>\n",
       "      <td>44.311378</td>\n",
       "      <td>f</td>\n",
       "      <td>0.00</td>\n",
       "      <td>16.38</td>\n",
       "      <td>16.38</td>\n",
       "      <td>1</td>\n",
       "      <td>18.89</td>\n",
       "      <td>6</td>\n",
       "      <td>kamkkxfxxuwbdslkwifmmcsiusiuosws</td>\n",
       "      <td>13.800</td>\n",
       "      <td>0</td>\n",
       "    </tr>\n",
       "    <tr>\n",
       "      <th>2</th>\n",
       "      <td>764c75f661154dac3a6c254cd082ea7d</td>\n",
       "      <td>foosdfpfkusacimwkcsosbicdxkicaua</td>\n",
       "      <td>544</td>\n",
       "      <td>0</td>\n",
       "      <td>0</td>\n",
       "      <td>2010-04-16</td>\n",
       "      <td>2016-04-16</td>\n",
       "      <td>2010-04-16</td>\n",
       "      <td>2015-04-17</td>\n",
       "      <td>47.96</td>\n",
       "      <td>0</td>\n",
       "      <td>0.0</td>\n",
       "      <td>38.72</td>\n",
       "      <td>0.165794</td>\n",
       "      <td>0.087899</td>\n",
       "      <td>44.311378</td>\n",
       "      <td>f</td>\n",
       "      <td>0.00</td>\n",
       "      <td>28.60</td>\n",
       "      <td>28.60</td>\n",
       "      <td>1</td>\n",
       "      <td>6.60</td>\n",
       "      <td>6</td>\n",
       "      <td>kamkkxfxxuwbdslkwifmmcsiusiuosws</td>\n",
       "      <td>13.856</td>\n",
       "      <td>0</td>\n",
       "    </tr>\n",
       "    <tr>\n",
       "      <th>3</th>\n",
       "      <td>bba03439a292a1e166f80264c16191cb</td>\n",
       "      <td>lmkebamcaaclubfxadlmueccxoimlema</td>\n",
       "      <td>1584</td>\n",
       "      <td>0</td>\n",
       "      <td>0</td>\n",
       "      <td>2010-03-30</td>\n",
       "      <td>2016-03-30</td>\n",
       "      <td>2010-03-30</td>\n",
       "      <td>2015-03-31</td>\n",
       "      <td>240.04</td>\n",
       "      <td>0</td>\n",
       "      <td>0.0</td>\n",
       "      <td>19.83</td>\n",
       "      <td>0.146694</td>\n",
       "      <td>0.000000</td>\n",
       "      <td>44.311378</td>\n",
       "      <td>f</td>\n",
       "      <td>0.00</td>\n",
       "      <td>30.22</td>\n",
       "      <td>30.22</td>\n",
       "      <td>1</td>\n",
       "      <td>25.46</td>\n",
       "      <td>6</td>\n",
       "      <td>kamkkxfxxuwbdslkwifmmcsiusiuosws</td>\n",
       "      <td>13.200</td>\n",
       "      <td>0</td>\n",
       "    </tr>\n",
       "    <tr>\n",
       "      <th>4</th>\n",
       "      <td>149d57cf92fc41cf94415803a877cb4b</td>\n",
       "      <td>MISSING</td>\n",
       "      <td>4425</td>\n",
       "      <td>0</td>\n",
       "      <td>526</td>\n",
       "      <td>2010-01-13</td>\n",
       "      <td>2016-03-07</td>\n",
       "      <td>2010-01-13</td>\n",
       "      <td>2015-03-09</td>\n",
       "      <td>445.75</td>\n",
       "      <td>526</td>\n",
       "      <td>0.0</td>\n",
       "      <td>131.73</td>\n",
       "      <td>0.116900</td>\n",
       "      <td>0.100015</td>\n",
       "      <td>40.606701</td>\n",
       "      <td>f</td>\n",
       "      <td>52.32</td>\n",
       "      <td>44.91</td>\n",
       "      <td>44.91</td>\n",
       "      <td>1</td>\n",
       "      <td>47.98</td>\n",
       "      <td>6</td>\n",
       "      <td>kamkkxfxxuwbdslkwifmmcsiusiuosws</td>\n",
       "      <td>19.800</td>\n",
       "      <td>0</td>\n",
       "    </tr>\n",
       "  </tbody>\n",
       "</table>\n",
       "</div>"
      ],
      "text/plain": [
       "                                 id                     channel_sales  cons_12m  cons_gas_12m  cons_last_month  date_activ    date_end date_modif_prod date_renewal  forecast_cons_12m  forecast_cons_year  forecast_discount_energy  forecast_meter_rent_12m  forecast_price_energy_off_peak  forecast_price_energy_peak  forecast_price_pow_off_peak has_gas  imp_cons  margin_gross_pow_ele  margin_net_pow_ele  nb_prod_act  net_margin  num_years_antig                         origin_up  pow_max  churn\n",
       "0  24011ae4ebbe3035111d65fa7c15bc57  foosdfpfkusacimwkcsosbicdxkicaua         0         54946                0  2013-06-15  2016-06-15      2015-11-01   2015-06-23               0.00                   0                       0.0                     1.78                        0.114481                    0.098142                    40.606701       t      0.00                 25.44               25.44            2      678.99                3  lxidpiddsbxsbosboudacockeimpuepw   43.648      1\n",
       "1  d29c2c54acc38ff3c0614d0a653813dd                           MISSING      4660             0                0  2009-08-21  2016-08-30      2009-08-21   2015-08-31             189.95                   0                       0.0                    16.27                        0.145711                    0.000000                    44.311378       f      0.00                 16.38               16.38            1       18.89                6  kamkkxfxxuwbdslkwifmmcsiusiuosws   13.800      0\n",
       "2  764c75f661154dac3a6c254cd082ea7d  foosdfpfkusacimwkcsosbicdxkicaua       544             0                0  2010-04-16  2016-04-16      2010-04-16   2015-04-17              47.96                   0                       0.0                    38.72                        0.165794                    0.087899                    44.311378       f      0.00                 28.60               28.60            1        6.60                6  kamkkxfxxuwbdslkwifmmcsiusiuosws   13.856      0\n",
       "3  bba03439a292a1e166f80264c16191cb  lmkebamcaaclubfxadlmueccxoimlema      1584             0                0  2010-03-30  2016-03-30      2010-03-30   2015-03-31             240.04                   0                       0.0                    19.83                        0.146694                    0.000000                    44.311378       f      0.00                 30.22               30.22            1       25.46                6  kamkkxfxxuwbdslkwifmmcsiusiuosws   13.200      0\n",
       "4  149d57cf92fc41cf94415803a877cb4b                           MISSING      4425             0              526  2010-01-13  2016-03-07      2010-01-13   2015-03-09             445.75                 526                       0.0                   131.73                        0.116900                    0.100015                    40.606701       f     52.32                 44.91               44.91            1       47.98                6  kamkkxfxxuwbdslkwifmmcsiusiuosws   19.800      0"
      ]
     },
     "execution_count": 12,
     "metadata": {},
     "output_type": "execute_result"
    }
   ],
   "source": [
    "client_df.head()"
   ]
  },
  {
   "cell_type": "code",
   "execution_count": 13,
   "id": "4cebbee8",
   "metadata": {},
   "outputs": [
    {
     "data": {
      "text/html": [
       "<div>\n",
       "<style scoped>\n",
       "    .dataframe tbody tr th:only-of-type {\n",
       "        vertical-align: middle;\n",
       "    }\n",
       "\n",
       "    .dataframe tbody tr th {\n",
       "        vertical-align: top;\n",
       "    }\n",
       "\n",
       "    .dataframe thead th {\n",
       "        text-align: right;\n",
       "    }\n",
       "</style>\n",
       "<table border=\"1\" class=\"dataframe\">\n",
       "  <thead>\n",
       "    <tr style=\"text-align: right;\">\n",
       "      <th></th>\n",
       "      <th>id</th>\n",
       "      <th>price_date</th>\n",
       "      <th>price_off_peak_var</th>\n",
       "      <th>price_peak_var</th>\n",
       "      <th>price_mid_peak_var</th>\n",
       "      <th>price_off_peak_fix</th>\n",
       "      <th>price_peak_fix</th>\n",
       "      <th>price_mid_peak_fix</th>\n",
       "    </tr>\n",
       "  </thead>\n",
       "  <tbody>\n",
       "    <tr>\n",
       "      <th>0</th>\n",
       "      <td>038af19179925da21a25619c5a24b745</td>\n",
       "      <td>2015-01-01</td>\n",
       "      <td>0.151367</td>\n",
       "      <td>0.0</td>\n",
       "      <td>0.0</td>\n",
       "      <td>44.266931</td>\n",
       "      <td>0.0</td>\n",
       "      <td>0.0</td>\n",
       "    </tr>\n",
       "    <tr>\n",
       "      <th>1</th>\n",
       "      <td>038af19179925da21a25619c5a24b745</td>\n",
       "      <td>2015-02-01</td>\n",
       "      <td>0.151367</td>\n",
       "      <td>0.0</td>\n",
       "      <td>0.0</td>\n",
       "      <td>44.266931</td>\n",
       "      <td>0.0</td>\n",
       "      <td>0.0</td>\n",
       "    </tr>\n",
       "    <tr>\n",
       "      <th>2</th>\n",
       "      <td>038af19179925da21a25619c5a24b745</td>\n",
       "      <td>2015-03-01</td>\n",
       "      <td>0.151367</td>\n",
       "      <td>0.0</td>\n",
       "      <td>0.0</td>\n",
       "      <td>44.266931</td>\n",
       "      <td>0.0</td>\n",
       "      <td>0.0</td>\n",
       "    </tr>\n",
       "    <tr>\n",
       "      <th>3</th>\n",
       "      <td>038af19179925da21a25619c5a24b745</td>\n",
       "      <td>2015-04-01</td>\n",
       "      <td>0.149626</td>\n",
       "      <td>0.0</td>\n",
       "      <td>0.0</td>\n",
       "      <td>44.266931</td>\n",
       "      <td>0.0</td>\n",
       "      <td>0.0</td>\n",
       "    </tr>\n",
       "    <tr>\n",
       "      <th>4</th>\n",
       "      <td>038af19179925da21a25619c5a24b745</td>\n",
       "      <td>2015-05-01</td>\n",
       "      <td>0.149626</td>\n",
       "      <td>0.0</td>\n",
       "      <td>0.0</td>\n",
       "      <td>44.266931</td>\n",
       "      <td>0.0</td>\n",
       "      <td>0.0</td>\n",
       "    </tr>\n",
       "  </tbody>\n",
       "</table>\n",
       "</div>"
      ],
      "text/plain": [
       "                                 id  price_date  price_off_peak_var  price_peak_var  price_mid_peak_var  price_off_peak_fix  price_peak_fix  price_mid_peak_fix\n",
       "0  038af19179925da21a25619c5a24b745  2015-01-01            0.151367             0.0                 0.0           44.266931             0.0                 0.0\n",
       "1  038af19179925da21a25619c5a24b745  2015-02-01            0.151367             0.0                 0.0           44.266931             0.0                 0.0\n",
       "2  038af19179925da21a25619c5a24b745  2015-03-01            0.151367             0.0                 0.0           44.266931             0.0                 0.0\n",
       "3  038af19179925da21a25619c5a24b745  2015-04-01            0.149626             0.0                 0.0           44.266931             0.0                 0.0\n",
       "4  038af19179925da21a25619c5a24b745  2015-05-01            0.149626             0.0                 0.0           44.266931             0.0                 0.0"
      ]
     },
     "execution_count": 13,
     "metadata": {},
     "output_type": "execute_result"
    }
   ],
   "source": [
    "price_df.head()"
   ]
  },
  {
   "cell_type": "markdown",
   "id": "627164b6",
   "metadata": {},
   "source": [
    "### Descriptive Statistics\n",
    "\n",
    "This will provide quantitative measures and summary statistics of the data we have at hand.\n"
   ]
  },
  {
   "cell_type": "code",
   "execution_count": 14,
   "id": "4d6844ea",
   "metadata": {},
   "outputs": [
    {
     "data": {
      "text/plain": [
       "(14606, 26)"
      ]
     },
     "execution_count": 14,
     "metadata": {},
     "output_type": "execute_result"
    }
   ],
   "source": [
    "client_df.shape"
   ]
  },
  {
   "cell_type": "code",
   "execution_count": 15,
   "id": "08983aa9",
   "metadata": {},
   "outputs": [
    {
     "data": {
      "text/plain": [
       "(193002, 8)"
      ]
     },
     "execution_count": 15,
     "metadata": {},
     "output_type": "execute_result"
    }
   ],
   "source": [
    "price_df.shape\n"
   ]
  },
  {
   "cell_type": "code",
   "execution_count": 16,
   "id": "547937e8",
   "metadata": {},
   "outputs": [
    {
     "name": "stdout",
     "output_type": "stream",
     "text": [
      "<class 'pandas.core.frame.DataFrame'>\n",
      "RangeIndex: 14606 entries, 0 to 14605\n",
      "Data columns (total 26 columns):\n",
      " #   Column                          Non-Null Count  Dtype  \n",
      "---  ------                          --------------  -----  \n",
      " 0   id                              14606 non-null  object \n",
      " 1   channel_sales                   14606 non-null  object \n",
      " 2   cons_12m                        14606 non-null  int64  \n",
      " 3   cons_gas_12m                    14606 non-null  int64  \n",
      " 4   cons_last_month                 14606 non-null  int64  \n",
      " 5   date_activ                      14606 non-null  object \n",
      " 6   date_end                        14606 non-null  object \n",
      " 7   date_modif_prod                 14606 non-null  object \n",
      " 8   date_renewal                    14606 non-null  object \n",
      " 9   forecast_cons_12m               14606 non-null  float64\n",
      " 10  forecast_cons_year              14606 non-null  int64  \n",
      " 11  forecast_discount_energy        14606 non-null  float64\n",
      " 12  forecast_meter_rent_12m         14606 non-null  float64\n",
      " 13  forecast_price_energy_off_peak  14606 non-null  float64\n",
      " 14  forecast_price_energy_peak      14606 non-null  float64\n",
      " 15  forecast_price_pow_off_peak     14606 non-null  float64\n",
      " 16  has_gas                         14606 non-null  object \n",
      " 17  imp_cons                        14606 non-null  float64\n",
      " 18  margin_gross_pow_ele            14606 non-null  float64\n",
      " 19  margin_net_pow_ele              14606 non-null  float64\n",
      " 20  nb_prod_act                     14606 non-null  int64  \n",
      " 21  net_margin                      14606 non-null  float64\n",
      " 22  num_years_antig                 14606 non-null  int64  \n",
      " 23  origin_up                       14606 non-null  object \n",
      " 24  pow_max                         14606 non-null  float64\n",
      " 25  churn                           14606 non-null  int64  \n",
      "dtypes: float64(11), int64(7), object(8)\n",
      "memory usage: 2.9+ MB\n"
     ]
    }
   ],
   "source": [
    "client_df.info()"
   ]
  },
  {
   "cell_type": "code",
   "execution_count": 17,
   "id": "199fe960",
   "metadata": {
    "scrolled": true
   },
   "outputs": [
    {
     "name": "stdout",
     "output_type": "stream",
     "text": [
      "<class 'pandas.core.frame.DataFrame'>\n",
      "RangeIndex: 193002 entries, 0 to 193001\n",
      "Data columns (total 8 columns):\n",
      " #   Column              Non-Null Count   Dtype  \n",
      "---  ------              --------------   -----  \n",
      " 0   id                  193002 non-null  object \n",
      " 1   price_date          193002 non-null  object \n",
      " 2   price_off_peak_var  193002 non-null  float64\n",
      " 3   price_peak_var      193002 non-null  float64\n",
      " 4   price_mid_peak_var  193002 non-null  float64\n",
      " 5   price_off_peak_fix  193002 non-null  float64\n",
      " 6   price_peak_fix      193002 non-null  float64\n",
      " 7   price_mid_peak_fix  193002 non-null  float64\n",
      "dtypes: float64(6), object(2)\n",
      "memory usage: 11.8+ MB\n"
     ]
    }
   ],
   "source": [
    "price_df.info()"
   ]
  },
  {
   "cell_type": "markdown",
   "id": "6168e775",
   "metadata": {},
   "source": [
    "Now,we would use the describe function to see into the columns and see if there is any skewed column or if there are any outliers. We do this by  looking to see if the standard deviation is far from the mean"
   ]
  },
  {
   "cell_type": "code",
   "execution_count": 19,
   "id": "bbccc620",
   "metadata": {},
   "outputs": [
    {
     "data": {
      "text/html": [
       "<div>\n",
       "<style scoped>\n",
       "    .dataframe tbody tr th:only-of-type {\n",
       "        vertical-align: middle;\n",
       "    }\n",
       "\n",
       "    .dataframe tbody tr th {\n",
       "        vertical-align: top;\n",
       "    }\n",
       "\n",
       "    .dataframe thead th {\n",
       "        text-align: right;\n",
       "    }\n",
       "</style>\n",
       "<table border=\"1\" class=\"dataframe\">\n",
       "  <thead>\n",
       "    <tr style=\"text-align: right;\">\n",
       "      <th></th>\n",
       "      <th>cons_12m</th>\n",
       "      <th>cons_gas_12m</th>\n",
       "      <th>cons_last_month</th>\n",
       "      <th>forecast_cons_12m</th>\n",
       "      <th>forecast_cons_year</th>\n",
       "      <th>forecast_discount_energy</th>\n",
       "      <th>forecast_meter_rent_12m</th>\n",
       "      <th>forecast_price_energy_off_peak</th>\n",
       "      <th>forecast_price_energy_peak</th>\n",
       "      <th>forecast_price_pow_off_peak</th>\n",
       "      <th>imp_cons</th>\n",
       "      <th>margin_gross_pow_ele</th>\n",
       "      <th>margin_net_pow_ele</th>\n",
       "      <th>nb_prod_act</th>\n",
       "      <th>net_margin</th>\n",
       "      <th>num_years_antig</th>\n",
       "      <th>pow_max</th>\n",
       "      <th>churn</th>\n",
       "    </tr>\n",
       "  </thead>\n",
       "  <tbody>\n",
       "    <tr>\n",
       "      <th>count</th>\n",
       "      <td>1.460600e+04</td>\n",
       "      <td>1.460600e+04</td>\n",
       "      <td>14606.000000</td>\n",
       "      <td>14606.000000</td>\n",
       "      <td>14606.000000</td>\n",
       "      <td>14606.000000</td>\n",
       "      <td>14606.000000</td>\n",
       "      <td>14606.000000</td>\n",
       "      <td>14606.000000</td>\n",
       "      <td>14606.000000</td>\n",
       "      <td>14606.000000</td>\n",
       "      <td>14606.000000</td>\n",
       "      <td>14606.000000</td>\n",
       "      <td>14606.000000</td>\n",
       "      <td>14606.000000</td>\n",
       "      <td>14606.000000</td>\n",
       "      <td>14606.000000</td>\n",
       "      <td>14606.000000</td>\n",
       "    </tr>\n",
       "    <tr>\n",
       "      <th>mean</th>\n",
       "      <td>1.592203e+05</td>\n",
       "      <td>2.809238e+04</td>\n",
       "      <td>16090.269752</td>\n",
       "      <td>1868.614880</td>\n",
       "      <td>1399.762906</td>\n",
       "      <td>0.966726</td>\n",
       "      <td>63.086871</td>\n",
       "      <td>0.137283</td>\n",
       "      <td>0.050491</td>\n",
       "      <td>43.130056</td>\n",
       "      <td>152.786896</td>\n",
       "      <td>24.565121</td>\n",
       "      <td>24.562517</td>\n",
       "      <td>1.292346</td>\n",
       "      <td>189.264522</td>\n",
       "      <td>4.997809</td>\n",
       "      <td>18.135136</td>\n",
       "      <td>0.097152</td>\n",
       "    </tr>\n",
       "    <tr>\n",
       "      <th>std</th>\n",
       "      <td>5.734653e+05</td>\n",
       "      <td>1.629731e+05</td>\n",
       "      <td>64364.196422</td>\n",
       "      <td>2387.571531</td>\n",
       "      <td>3247.786255</td>\n",
       "      <td>5.108289</td>\n",
       "      <td>66.165783</td>\n",
       "      <td>0.024623</td>\n",
       "      <td>0.049037</td>\n",
       "      <td>4.485988</td>\n",
       "      <td>341.369366</td>\n",
       "      <td>20.231172</td>\n",
       "      <td>20.230280</td>\n",
       "      <td>0.709774</td>\n",
       "      <td>311.798130</td>\n",
       "      <td>1.611749</td>\n",
       "      <td>13.534743</td>\n",
       "      <td>0.296175</td>\n",
       "    </tr>\n",
       "    <tr>\n",
       "      <th>min</th>\n",
       "      <td>0.000000e+00</td>\n",
       "      <td>0.000000e+00</td>\n",
       "      <td>0.000000</td>\n",
       "      <td>0.000000</td>\n",
       "      <td>0.000000</td>\n",
       "      <td>0.000000</td>\n",
       "      <td>0.000000</td>\n",
       "      <td>0.000000</td>\n",
       "      <td>0.000000</td>\n",
       "      <td>0.000000</td>\n",
       "      <td>0.000000</td>\n",
       "      <td>0.000000</td>\n",
       "      <td>0.000000</td>\n",
       "      <td>1.000000</td>\n",
       "      <td>0.000000</td>\n",
       "      <td>1.000000</td>\n",
       "      <td>3.300000</td>\n",
       "      <td>0.000000</td>\n",
       "    </tr>\n",
       "    <tr>\n",
       "      <th>25%</th>\n",
       "      <td>5.674750e+03</td>\n",
       "      <td>0.000000e+00</td>\n",
       "      <td>0.000000</td>\n",
       "      <td>494.995000</td>\n",
       "      <td>0.000000</td>\n",
       "      <td>0.000000</td>\n",
       "      <td>16.180000</td>\n",
       "      <td>0.116340</td>\n",
       "      <td>0.000000</td>\n",
       "      <td>40.606701</td>\n",
       "      <td>0.000000</td>\n",
       "      <td>14.280000</td>\n",
       "      <td>14.280000</td>\n",
       "      <td>1.000000</td>\n",
       "      <td>50.712500</td>\n",
       "      <td>4.000000</td>\n",
       "      <td>12.500000</td>\n",
       "      <td>0.000000</td>\n",
       "    </tr>\n",
       "    <tr>\n",
       "      <th>50%</th>\n",
       "      <td>1.411550e+04</td>\n",
       "      <td>0.000000e+00</td>\n",
       "      <td>792.500000</td>\n",
       "      <td>1112.875000</td>\n",
       "      <td>314.000000</td>\n",
       "      <td>0.000000</td>\n",
       "      <td>18.795000</td>\n",
       "      <td>0.143166</td>\n",
       "      <td>0.084138</td>\n",
       "      <td>44.311378</td>\n",
       "      <td>37.395000</td>\n",
       "      <td>21.640000</td>\n",
       "      <td>21.640000</td>\n",
       "      <td>1.000000</td>\n",
       "      <td>112.530000</td>\n",
       "      <td>5.000000</td>\n",
       "      <td>13.856000</td>\n",
       "      <td>0.000000</td>\n",
       "    </tr>\n",
       "    <tr>\n",
       "      <th>75%</th>\n",
       "      <td>4.076375e+04</td>\n",
       "      <td>0.000000e+00</td>\n",
       "      <td>3383.000000</td>\n",
       "      <td>2401.790000</td>\n",
       "      <td>1745.750000</td>\n",
       "      <td>0.000000</td>\n",
       "      <td>131.030000</td>\n",
       "      <td>0.146348</td>\n",
       "      <td>0.098837</td>\n",
       "      <td>44.311378</td>\n",
       "      <td>193.980000</td>\n",
       "      <td>29.880000</td>\n",
       "      <td>29.880000</td>\n",
       "      <td>1.000000</td>\n",
       "      <td>243.097500</td>\n",
       "      <td>6.000000</td>\n",
       "      <td>19.172500</td>\n",
       "      <td>0.000000</td>\n",
       "    </tr>\n",
       "    <tr>\n",
       "      <th>max</th>\n",
       "      <td>6.207104e+06</td>\n",
       "      <td>4.154590e+06</td>\n",
       "      <td>771203.000000</td>\n",
       "      <td>82902.830000</td>\n",
       "      <td>175375.000000</td>\n",
       "      <td>30.000000</td>\n",
       "      <td>599.310000</td>\n",
       "      <td>0.273963</td>\n",
       "      <td>0.195975</td>\n",
       "      <td>59.266378</td>\n",
       "      <td>15042.790000</td>\n",
       "      <td>374.640000</td>\n",
       "      <td>374.640000</td>\n",
       "      <td>32.000000</td>\n",
       "      <td>24570.650000</td>\n",
       "      <td>13.000000</td>\n",
       "      <td>320.000000</td>\n",
       "      <td>1.000000</td>\n",
       "    </tr>\n",
       "  </tbody>\n",
       "</table>\n",
       "</div>"
      ],
      "text/plain": [
       "           cons_12m  cons_gas_12m  cons_last_month  forecast_cons_12m  forecast_cons_year  forecast_discount_energy  forecast_meter_rent_12m  forecast_price_energy_off_peak  forecast_price_energy_peak  forecast_price_pow_off_peak      imp_cons  margin_gross_pow_ele  margin_net_pow_ele   nb_prod_act    net_margin  num_years_antig       pow_max         churn\n",
       "count  1.460600e+04  1.460600e+04     14606.000000       14606.000000        14606.000000              14606.000000             14606.000000                    14606.000000                14606.000000                 14606.000000  14606.000000          14606.000000        14606.000000  14606.000000  14606.000000     14606.000000  14606.000000  14606.000000\n",
       "mean   1.592203e+05  2.809238e+04     16090.269752        1868.614880         1399.762906                  0.966726                63.086871                        0.137283                    0.050491                    43.130056    152.786896             24.565121           24.562517      1.292346    189.264522         4.997809     18.135136      0.097152\n",
       "std    5.734653e+05  1.629731e+05     64364.196422        2387.571531         3247.786255                  5.108289                66.165783                        0.024623                    0.049037                     4.485988    341.369366             20.231172           20.230280      0.709774    311.798130         1.611749     13.534743      0.296175\n",
       "min    0.000000e+00  0.000000e+00         0.000000           0.000000            0.000000                  0.000000                 0.000000                        0.000000                    0.000000                     0.000000      0.000000              0.000000            0.000000      1.000000      0.000000         1.000000      3.300000      0.000000\n",
       "25%    5.674750e+03  0.000000e+00         0.000000         494.995000            0.000000                  0.000000                16.180000                        0.116340                    0.000000                    40.606701      0.000000             14.280000           14.280000      1.000000     50.712500         4.000000     12.500000      0.000000\n",
       "50%    1.411550e+04  0.000000e+00       792.500000        1112.875000          314.000000                  0.000000                18.795000                        0.143166                    0.084138                    44.311378     37.395000             21.640000           21.640000      1.000000    112.530000         5.000000     13.856000      0.000000\n",
       "75%    4.076375e+04  0.000000e+00      3383.000000        2401.790000         1745.750000                  0.000000               131.030000                        0.146348                    0.098837                    44.311378    193.980000             29.880000           29.880000      1.000000    243.097500         6.000000     19.172500      0.000000\n",
       "max    6.207104e+06  4.154590e+06    771203.000000       82902.830000       175375.000000                 30.000000               599.310000                        0.273963                    0.195975                    59.266378  15042.790000            374.640000          374.640000     32.000000  24570.650000        13.000000    320.000000      1.000000"
      ]
     },
     "execution_count": 19,
     "metadata": {},
     "output_type": "execute_result"
    }
   ],
   "source": [
    "client_df.describe()"
   ]
  },
  {
   "cell_type": "code",
   "execution_count": 20,
   "id": "81d6f264",
   "metadata": {},
   "outputs": [
    {
     "data": {
      "text/html": [
       "<div>\n",
       "<style scoped>\n",
       "    .dataframe tbody tr th:only-of-type {\n",
       "        vertical-align: middle;\n",
       "    }\n",
       "\n",
       "    .dataframe tbody tr th {\n",
       "        vertical-align: top;\n",
       "    }\n",
       "\n",
       "    .dataframe thead th {\n",
       "        text-align: right;\n",
       "    }\n",
       "</style>\n",
       "<table border=\"1\" class=\"dataframe\">\n",
       "  <thead>\n",
       "    <tr style=\"text-align: right;\">\n",
       "      <th></th>\n",
       "      <th>price_off_peak_var</th>\n",
       "      <th>price_peak_var</th>\n",
       "      <th>price_mid_peak_var</th>\n",
       "      <th>price_off_peak_fix</th>\n",
       "      <th>price_peak_fix</th>\n",
       "      <th>price_mid_peak_fix</th>\n",
       "    </tr>\n",
       "  </thead>\n",
       "  <tbody>\n",
       "    <tr>\n",
       "      <th>count</th>\n",
       "      <td>193002.000000</td>\n",
       "      <td>193002.000000</td>\n",
       "      <td>193002.000000</td>\n",
       "      <td>193002.000000</td>\n",
       "      <td>193002.000000</td>\n",
       "      <td>193002.000000</td>\n",
       "    </tr>\n",
       "    <tr>\n",
       "      <th>mean</th>\n",
       "      <td>0.141027</td>\n",
       "      <td>0.054630</td>\n",
       "      <td>0.030496</td>\n",
       "      <td>43.334477</td>\n",
       "      <td>10.622875</td>\n",
       "      <td>6.409984</td>\n",
       "    </tr>\n",
       "    <tr>\n",
       "      <th>std</th>\n",
       "      <td>0.025032</td>\n",
       "      <td>0.049924</td>\n",
       "      <td>0.036298</td>\n",
       "      <td>5.410297</td>\n",
       "      <td>12.841895</td>\n",
       "      <td>7.773592</td>\n",
       "    </tr>\n",
       "    <tr>\n",
       "      <th>min</th>\n",
       "      <td>0.000000</td>\n",
       "      <td>0.000000</td>\n",
       "      <td>0.000000</td>\n",
       "      <td>0.000000</td>\n",
       "      <td>0.000000</td>\n",
       "      <td>0.000000</td>\n",
       "    </tr>\n",
       "    <tr>\n",
       "      <th>25%</th>\n",
       "      <td>0.125976</td>\n",
       "      <td>0.000000</td>\n",
       "      <td>0.000000</td>\n",
       "      <td>40.728885</td>\n",
       "      <td>0.000000</td>\n",
       "      <td>0.000000</td>\n",
       "    </tr>\n",
       "    <tr>\n",
       "      <th>50%</th>\n",
       "      <td>0.146033</td>\n",
       "      <td>0.085483</td>\n",
       "      <td>0.000000</td>\n",
       "      <td>44.266930</td>\n",
       "      <td>0.000000</td>\n",
       "      <td>0.000000</td>\n",
       "    </tr>\n",
       "    <tr>\n",
       "      <th>75%</th>\n",
       "      <td>0.151635</td>\n",
       "      <td>0.101673</td>\n",
       "      <td>0.072558</td>\n",
       "      <td>44.444710</td>\n",
       "      <td>24.339581</td>\n",
       "      <td>16.226389</td>\n",
       "    </tr>\n",
       "    <tr>\n",
       "      <th>max</th>\n",
       "      <td>0.280700</td>\n",
       "      <td>0.229788</td>\n",
       "      <td>0.114102</td>\n",
       "      <td>59.444710</td>\n",
       "      <td>36.490692</td>\n",
       "      <td>17.458221</td>\n",
       "    </tr>\n",
       "  </tbody>\n",
       "</table>\n",
       "</div>"
      ],
      "text/plain": [
       "       price_off_peak_var  price_peak_var  price_mid_peak_var  price_off_peak_fix  price_peak_fix  price_mid_peak_fix\n",
       "count       193002.000000   193002.000000       193002.000000       193002.000000   193002.000000       193002.000000\n",
       "mean             0.141027        0.054630            0.030496           43.334477       10.622875            6.409984\n",
       "std              0.025032        0.049924            0.036298            5.410297       12.841895            7.773592\n",
       "min              0.000000        0.000000            0.000000            0.000000        0.000000            0.000000\n",
       "25%              0.125976        0.000000            0.000000           40.728885        0.000000            0.000000\n",
       "50%              0.146033        0.085483            0.000000           44.266930        0.000000            0.000000\n",
       "75%              0.151635        0.101673            0.072558           44.444710       24.339581           16.226389\n",
       "max              0.280700        0.229788            0.114102           59.444710       36.490692           17.458221"
      ]
     },
     "execution_count": 20,
     "metadata": {},
     "output_type": "execute_result"
    }
   ],
   "source": [
    "price_df.describe()"
   ]
  },
  {
   "cell_type": "code",
   "execution_count": 27,
   "id": "4371b704",
   "metadata": {},
   "outputs": [],
   "source": [
    "df=pd.merge(client_df,price_df,on='id',how='inner')"
   ]
  },
  {
   "cell_type": "markdown",
   "id": "4d775272",
   "metadata": {},
   "source": [
    "## Exploratory Analysis\n"
   ]
  },
  {
   "cell_type": "markdown",
   "id": "be243dd8",
   "metadata": {},
   "source": [
    "#### First we trying to find the correlation between the variable\n"
   ]
  },
  {
   "cell_type": "code",
   "execution_count": 28,
   "id": "112c145b",
   "metadata": {},
   "outputs": [],
   "source": [
    "columns_to_drop = []\n",
    "\n",
    "for column in df.columns:\n",
    "    if df[column].dtype == 'object':\n",
    "        columns_to_drop.append(column)\n",
    "\n",
    "df1 = df.drop(columns=columns_to_drop)"
   ]
  },
  {
   "cell_type": "code",
   "execution_count": 30,
   "id": "2c12ee92",
   "metadata": {},
   "outputs": [
    {
     "name": "stdout",
     "output_type": "stream",
     "text": [
      "<class 'pandas.core.frame.DataFrame'>\n",
      "Int64Index: 175149 entries, 0 to 175148\n",
      "Data columns (total 33 columns):\n",
      " #   Column                          Non-Null Count   Dtype  \n",
      "---  ------                          --------------   -----  \n",
      " 0   id                              175149 non-null  object \n",
      " 1   channel_sales                   175149 non-null  object \n",
      " 2   cons_12m                        175149 non-null  int64  \n",
      " 3   cons_gas_12m                    175149 non-null  int64  \n",
      " 4   cons_last_month                 175149 non-null  int64  \n",
      " 5   date_activ                      175149 non-null  object \n",
      " 6   date_end                        175149 non-null  object \n",
      " 7   date_modif_prod                 175149 non-null  object \n",
      " 8   date_renewal                    175149 non-null  object \n",
      " 9   forecast_cons_12m               175149 non-null  float64\n",
      " 10  forecast_cons_year              175149 non-null  int64  \n",
      " 11  forecast_discount_energy        175149 non-null  float64\n",
      " 12  forecast_meter_rent_12m         175149 non-null  float64\n",
      " 13  forecast_price_energy_off_peak  175149 non-null  float64\n",
      " 14  forecast_price_energy_peak      175149 non-null  float64\n",
      " 15  forecast_price_pow_off_peak     175149 non-null  float64\n",
      " 16  has_gas                         175149 non-null  object \n",
      " 17  imp_cons                        175149 non-null  float64\n",
      " 18  margin_gross_pow_ele            175149 non-null  float64\n",
      " 19  margin_net_pow_ele              175149 non-null  float64\n",
      " 20  nb_prod_act                     175149 non-null  int64  \n",
      " 21  net_margin                      175149 non-null  float64\n",
      " 22  num_years_antig                 175149 non-null  int64  \n",
      " 23  origin_up                       175149 non-null  object \n",
      " 24  pow_max                         175149 non-null  float64\n",
      " 25  churn                           175149 non-null  int64  \n",
      " 26  price_date                      175149 non-null  object \n",
      " 27  price_off_peak_var              175149 non-null  float64\n",
      " 28  price_peak_var                  175149 non-null  float64\n",
      " 29  price_mid_peak_var              175149 non-null  float64\n",
      " 30  price_off_peak_fix              175149 non-null  float64\n",
      " 31  price_peak_fix                  175149 non-null  float64\n",
      " 32  price_mid_peak_fix              175149 non-null  float64\n",
      "dtypes: float64(17), int64(7), object(9)\n",
      "memory usage: 45.4+ MB\n"
     ]
    }
   ],
   "source": [
    "df.info()\n"
   ]
  },
  {
   "cell_type": "code",
   "execution_count": 34,
   "id": "3366b25e",
   "metadata": {},
   "outputs": [
    {
     "data": {
      "text/plain": [
       "churn  channel_sales                   \n",
       "0      foosdfpfkusacimwkcsosbicdxkicaua    5934\n",
       "       MISSING                             3442\n",
       "       lmkebamcaaclubfxadlmueccxoimlema    1740\n",
       "       usilxuppasemubllopkaafesmlibmsdf    1237\n",
       "       ewpakwlliwisiwduibdlfmalxowmwpci     818\n",
       "       sddiedcslfslkckwlfkdpoeeailfpeds      11\n",
       "       epumfxlbckeskwekxbiuasklxalciiuu       3\n",
       "       fixdbufsefwooaasfcxdxadsiekoceaa       2\n",
       "1      foosdfpfkusacimwkcsosbicdxkicaua     820\n",
       "       MISSING                              283\n",
       "       usilxuppasemubllopkaafesmlibmsdf     138\n",
       "       lmkebamcaaclubfxadlmueccxoimlema     103\n",
       "       ewpakwlliwisiwduibdlfmalxowmwpci      75\n",
       "Name: channel_sales, dtype: int64"
      ]
     },
     "execution_count": 34,
     "metadata": {},
     "output_type": "execute_result"
    }
   ],
   "source": [
    "grouped = client_df.groupby('churn')['channel_sales'].value_counts()\n",
    "grouped\n",
    "\n"
   ]
  },
  {
   "cell_type": "code",
   "execution_count": 37,
   "id": "77237a4c",
   "metadata": {},
   "outputs": [
    {
     "data": {
      "text/plain": [
       "<AxesSubplot:title={'center':'channels'}, xlabel='channel_sales'>"
      ]
     },
     "execution_count": 37,
     "metadata": {},
     "output_type": "execute_result"
    },
    {
     "data": {
      "image/png": "[encoded data removed]",
      "text/plain": [
       "<Figure size 576x720 with 1 Axes>"
      ]
     },
     "metadata": {},
     "output_type": "display_data"
    }
   ],
   "source": [
    "def move_legend(df: pd.DataFrame, column_1: str, column_2: str, plot_kind: str, size: tuple, title: str,\n",
    "                rotation: int):\n",
    "    return df.groupby(column_1)[column_2].value_counts().unstack().plot(kind=plot_kind,\n",
    "                                                                        figsize=size,\n",
    "                                                                        title=title,\n",
    "                                                                        rot=rotation)\n",
    "move_legend(client_df,'channel_sales','churn','bar',(8,10),'channels',90)"
   ]
  },
  {
   "cell_type": "code",
   "execution_count": 40,
   "id": "c14fa6f7",
   "metadata": {},
   "outputs": [],
   "source": [
    "def dayofweek(df: pd.DataFrame, column1: str, column2:str):\n",
    "    df[column1]=df[column2].dt.day_name()\n",
    "    print(df[column1])\n",
    "    return df[column1]\n",
    "\n"
   ]
  },
  {
   "cell_type": "code",
   "execution_count": 44,
   "id": "cd691eab",
   "metadata": {},
   "outputs": [
    {
     "name": "stdout",
     "output_type": "stream",
     "text": [
      "0        Wednesday\n",
      "1          Tuesday\n",
      "2         Saturday\n",
      "3        Wednesday\n",
      "4           Monday\n",
      "           ...    \n",
      "14601       Sunday\n",
      "14602     Saturday\n",
      "14603       Sunday\n",
      "14604      Tuesday\n",
      "14605     Saturday\n",
      "Name: daycontractends, Length: 14606, dtype: object\n"
     ]
    },
    {
     "data": {
      "text/plain": [
       "0        Wednesday\n",
       "1          Tuesday\n",
       "2         Saturday\n",
       "3        Wednesday\n",
       "4           Monday\n",
       "           ...    \n",
       "14601       Sunday\n",
       "14602     Saturday\n",
       "14603       Sunday\n",
       "14604      Tuesday\n",
       "14605     Saturday\n",
       "Name: daycontractends, Length: 14606, dtype: object"
      ]
     },
     "execution_count": 44,
     "metadata": {},
     "output_type": "execute_result"
    }
   ],
   "source": [
    "client_df['date_end'] = pd.to_datetime(client_df['date_end'])\n",
    "dayofweek(client_df,'daycontractends','date_end')"
   ]
  },
  {
   "cell_type": "code",
   "execution_count": 45,
   "id": "a13a77de",
   "metadata": {},
   "outputs": [
    {
     "data": {
      "image/png": "[encoded data removed]",
      "text/plain": [
       "<Figure size 432x288 with 1 Axes>"
      ]
     },
     "metadata": {},
     "output_type": "display_data"
    },
    {
     "data": {
      "text/plain": [
       "daycontractends\n",
       "Friday       2178\n",
       "Monday       1858\n",
       "Saturday     2238\n",
       "Sunday       1706\n",
       "Thursday     2193\n",
       "Tuesday      2056\n",
       "Wednesday    2377\n",
       "Name: churn, dtype: int64"
      ]
     },
     "execution_count": 45,
     "metadata": {},
     "output_type": "execute_result"
    }
   ],
   "source": [
    "def pie_plotter(df: pd.DataFrame, column_1:str, column_2:str,title:str):\n",
    "    x=df.groupby(column_1)[column_2].count()\n",
    "    x.plot.pie(subplots=True,autopct=\"%.2f\",title=title)\n",
    "    plt.show()\n",
    "    return x\n",
    "pie_plotter(client_df,'daycontractends','churn','day most contract ended')"
   ]
  },
  {
   "cell_type": "code",
   "execution_count": 46,
   "id": "c4aedb79",
   "metadata": {},
   "outputs": [
    {
     "data": {
      "text/plain": [
       "<AxesSubplot:title={'center':'plotting contract end'}, xlabel='daycontractends'>"
      ]
     },
     "execution_count": 46,
     "metadata": {},
     "output_type": "execute_result"
    },
    {
     "data": {
      "image/png": "[encoded data removed]",
      "text/plain": [
       "<Figure size 576x720 with 1 Axes>"
      ]
     },
     "metadata": {},
     "output_type": "display_data"
    }
   ],
   "source": [
    "move_legend(client_df,'daycontractends','churn','bar',(8,10),'plotting contract end',90)"
   ]
  },
  {
   "cell_type": "code",
   "execution_count": 53,
   "id": "864da01c",
   "metadata": {},
   "outputs": [
    {
     "data": {
      "image/png": "[encoded data removed]",
      "text/plain": [
       "<Figure size 432x288 with 1 Axes>"
      ]
     },
     "metadata": {},
     "output_type": "display_data"
    }
   ],
   "source": [
    "# relationship between variables\n",
    "sns.regplot(x=df['price_off_peak_var'], y=df['forecast_discount_energy'])\n",
    "\n",
    "# Set labels and title\n",
    "plt.xlabel('Price off peak')\n",
    "plt.ylabel('forecast discount')\n",
    "plt.title('Relationship between price off peak for the first period and discount forecast')\n",
    "\n",
    "# Display the plot\n",
    "plt.show()\n",
    "\n",
    "\n"
   ]
  },
  {
   "cell_type": "code",
   "execution_count": 54,
   "id": "8478a9fc",
   "metadata": {},
   "outputs": [
    {
     "data": {
      "image/png": "[encoded data removed]",
      "text/plain": [
       "<Figure size 432x288 with 1 Axes>"
      ]
     },
     "metadata": {},
     "output_type": "display_data"
    }
   ],
   "source": [
    "df['year'] = pd.to_datetime(df['date_activ']).dt.year\n",
    "\n",
    "# Count the frequency of account creations per year\n",
    "yearly_counts = df['year'].value_counts().sort_index()\n",
    "\n",
    "# Plot the yearly account creation trend\n",
    "plt.plot(yearly_counts.index, yearly_counts.values, marker='o')\n",
    "plt.xlabel('Year')\n",
    "plt.ylabel('Number of date contract was activated')\n",
    "plt.title(' Trend')\n",
    "plt.xticks(rotation=45)\n",
    "plt.show()\n",
    "\n"
   ]
  },
  {
   "cell_type": "code",
   "execution_count": 55,
   "id": "ddc15e77",
   "metadata": {},
   "outputs": [
    {
     "data": {
      "image/png": "[encoded data removed]",
      "text/plain": [
       "<Figure size 432x288 with 1 Axes>"
      ]
     },
     "metadata": {},
     "output_type": "display_data"
    },
    {
     "data": {
      "image/png": "[encoded data removed]",
      "text/plain": [
       "<Figure size 432x288 with 1 Axes>"
      ]
     },
     "metadata": {},
     "output_type": "display_data"
    }
   ],
   "source": [
    "# Plot histogram for forecast_price_energy_off_peak\n",
    "plt.hist(client_df['forecast_price_energy_off_peak'], bins=10, color='blue', alpha=0.5)\n",
    "plt.xlabel('Forecasted Energy Price (Off-Peak)')\n",
    "plt.ylabel('Frequency')\n",
    "plt.title('Histogram of Forecasted Energy Price (Off-Peak)')\n",
    "plt.show()\n",
    "\n",
    "# Plot histogram for forecast_price_energy_peak\n",
    "plt.hist(client_df['forecast_price_energy_peak'], bins=10, color='green', alpha=0.5)\n",
    "plt.xlabel('Forecasted Energy Price (Peak)')\n",
    "plt.ylabel('Frequency')\n",
    "plt.title('Histogram of Forecasted Energy Price (Peak)')\n",
    "plt.show()"
   ]
  },
  {
   "cell_type": "markdown",
   "id": "b16e75a5",
   "metadata": {},
   "source": [
    "#### performing the Mann-Whitney U test using the mannwhitneyu() function from scipt.stats"
   ]
  },
  {
   "cell_type": "code",
   "execution_count": 57,
   "id": "e41568e0",
   "metadata": {},
   "outputs": [
    {
     "name": "stdout",
     "output_type": "stream",
     "text": [
      "Mann-Whitney U statistic: 9693853.0\n",
      "p-value: 0.42218906035050685\n"
     ]
    },
    {
     "data": {
      "image/png": "[encoded data removed]",
      "text/plain": [
       "<Figure size 432x288 with 1 Axes>"
      ]
     },
     "metadata": {},
     "output_type": "display_data"
    }
   ],
   "source": [
    "import scipy.stats as stats\n",
    "import matplotlib.pyplot as plt\n",
    "\n",
    "# Extract the energy prices for churned and non-churned customers\n",
    "energy_price_churned = client_df.loc[df['churn'] == 1, 'forecast_price_energy_off_peak']\n",
    "energy_price_non_churned = client_df.loc[df['churn'] == 0, 'forecast_price_energy_off_peak']\n",
    "\n",
    "# Perform the Mann-Whitney U test\n",
    "statistic, p_value = stats.mannwhitneyu(energy_price_churned, energy_price_non_churned)\n",
    "\n",
    "# Print the test statistic and p-value\n",
    "print('Mann-Whitney U statistic:', statistic)\n",
    "print('p-value:', p_value)\n",
    "\n",
    "# Plot the energy price distributions\n",
    "plt.hist(energy_price_churned, bins=10, color='red', alpha=0.5, label='Churned')\n",
    "plt.hist(energy_price_non_churned, bins=10, color='blue', alpha=0.5, label='Non-Churned')\n",
    "plt.xlabel('Forecasted Energy Price (Off-Peak)')\n",
    "plt.ylabel('Frequency')\n",
    "plt.title('Histogram of Forecasted Energy Price by Churn')\n",
    "plt.legend()\n",
    "plt.show()\n"
   ]
  },
  {
   "cell_type": "markdown",
   "id": "89cfec2b",
   "metadata": {},
   "source": [
    "## Task 2\n",
    " Verifying the hypothesis of price sensitivity being to some extent correlated with churn\n",
    " \n",
    " Price sensitivity can be described as the extent to which customers are responsive to changes in price.\n",
    " \n",
    " So first we will divide the churn customer by total number of all customers"
   ]
  },
  {
   "cell_type": "code",
   "execution_count": 58,
   "id": "5128ca88",
   "metadata": {},
   "outputs": [
    {
     "name": "stdout",
     "output_type": "stream",
     "text": [
      "Churn Rate: 9.71%\n"
     ]
    }
   ],
   "source": [
    "# Assuming you have a DataFrame called 'df' that contains the churned customer information\n",
    "\n",
    "# Calculate the total number of customers\n",
    "total_customers = df.shape[0]\n",
    "\n",
    "# Calculate the number of churned customers\n",
    "churned_customers = df[df['churn'] == 1].shape[0]\n",
    "\n",
    "# Calculate the churn rate\n",
    "churn_rate = (churned_customers / total_customers) * 100\n",
    "\n",
    "print(\"Churn Rate: {:.2f}%\".format(churn_rate))\n"
   ]
  },
  {
   "cell_type": "markdown",
   "id": "ce465451",
   "metadata": {},
   "source": [
    "calculating price sensitivity\n"
   ]
  },
  {
   "cell_type": "code",
   "execution_count": 59,
   "id": "fd7cf2bd",
   "metadata": {},
   "outputs": [
    {
     "data": {
      "text/plain": [
       "0         40.819324\n",
       "1         40.819324\n",
       "2         40.819324\n",
       "3         40.819324\n",
       "4         40.819324\n",
       "            ...    \n",
       "175144    45.566918\n",
       "175145    45.566918\n",
       "175146    45.566918\n",
       "175147    45.566918\n",
       "175148    45.566918\n",
       "Name: forecasted_price, Length: 175149, dtype: float64"
      ]
     },
     "execution_count": 59,
     "metadata": {},
     "output_type": "execute_result"
    }
   ],
   "source": [
    "df['forecasted_price']=df[['forecast_price_energy_off_peak','forecast_price_energy_peak','forecast_price_pow_off_peak']].sum(axis=1)\n",
    "df['forecasted_price']"
   ]
  },
  {
   "cell_type": "code",
   "execution_count": 60,
   "id": "e12e7e70",
   "metadata": {},
   "outputs": [
    {
     "data": {
      "text/plain": [
       "0         81.432846\n",
       "1         81.432846\n",
       "2         81.432841\n",
       "3         81.432841\n",
       "4         81.432841\n",
       "            ...    \n",
       "175144    44.519797\n",
       "175145    44.519797\n",
       "175146    44.519797\n",
       "175147    44.519797\n",
       "175148    44.519797\n",
       "Name: actual_price, Length: 175149, dtype: float64"
      ]
     },
     "execution_count": 60,
     "metadata": {},
     "output_type": "execute_result"
    }
   ],
   "source": [
    "df['actual_price']=df[['price_off_peak_var','price_peak_var','price_mid_peak_var','price_off_peak_fix','price_peak_fix','price_mid_peak_fix']].sum(axis=1)\n",
    "df['actual_price']"
   ]
  },
  {
   "cell_type": "code",
   "execution_count": 62,
   "id": "d34a9509",
   "metadata": {},
   "outputs": [],
   "source": [
    "# Calculate the price sensitivity metric\n",
    "df['price_sensitivity'] =  df['actual_price'] - df['forecasted_price'] "
   ]
  },
  {
   "cell_type": "code",
   "execution_count": 64,
   "id": "82f47a42",
   "metadata": {},
   "outputs": [
    {
     "name": "stdout",
     "output_type": "stream",
     "text": [
      "price_segment\n",
      "Low       0.088174\n",
      "Medium    0.092233\n",
      "High      0.115756\n",
      "Name: churn, dtype: float64\n"
     ]
    }
   ],
   "source": [
    "\n",
    "\n",
    "# Define thresholds or quartiles for price sensitivity segments\n",
    "low_threshold = df['price_sensitivity'].quantile(0.25)\n",
    "high_threshold = df['price_sensitivity'].quantile(0.75)\n",
    "\n",
    "# Categorize customers into price sensitivity segments\n",
    "df['price_segment'] = pd.cut(df['price_sensitivity'], bins=[-np.inf, low_threshold, high_threshold, np.inf], labels=['Low', 'Medium', 'High'])\n",
    "\n",
    "# Calculate churn rate for each price sensitivity segment\n",
    "churn_rate = df.groupby('price_segment')['churn'].mean()\n",
    "\n",
    "# Print churn rate for each segment\n",
    "print(churn_rate)\n"
   ]
  },
  {
   "cell_type": "markdown",
   "id": "a894dd11",
   "metadata": {},
   "source": [
    "## Task 3\n",
    "\n",
    "The overall churn of the dataset is 9.71%.There is evidence to suggest that price sensitivity is correlated with churn. Customers with higher price sensitivity (in the \"High\" price sensitivity segment) have a higher churn rate compared to customers in the \"Low\" and \"Medium\" segments.This implies that customers who pay more for power may be more likely to churn if they perceive the pricing to be unfavorable or if they find better deals elsewhere.So in my findings, i am of the opinion that our discount should be more directed towards the big institutions that pay more than the residential properties. Additionally , we need to do better as to collecting of data, i noticed a lot of missing information in the Channel_sales column, this is a very big blow as we cannot explicitly decide which channel is having a lot of churned customers linked to it.We will also need more data on our competitiors pricing as to use that as a threshold when convincing our customers.On regards of other sources of data, will really appreciate if we can get the demographic area of clients, to try to find if there is a link between customers churning and area.\n",
    "\n",
    "Open source data that might be useful: Energy market data,customer satisfaction survey"
   ]
  },
  {
   "cell_type": "code",
   "execution_count": null,
   "id": "be1127e2",
   "metadata": {},
   "outputs": [],
   "source": []
  },
  {
   "cell_type": "code",
   "execution_count": null,
   "id": "95e26ea8",
   "metadata": {},
   "outputs": [],
   "source": []
  }
 ],
 "metadata": {
  "kernelspec": {
   "display_name": "Python 3 (ipykernel)",
   "language": "python",
   "name": "python3"
  },
  "language_info": {
   "codemirror_mode": {
    "name": "ipython",
    "version": 3
   },
   "file_extension": ".py",
   "mimetype": "text/x-python",
   "name": "python",
   "nbconvert_exporter": "python",
   "pygments_lexer": "ipython3",
   "version": "3.9.12"
  }
 },
 "nbformat": 4,
 "nbformat_minor": 5
}
